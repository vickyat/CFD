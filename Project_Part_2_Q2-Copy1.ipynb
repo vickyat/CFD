{
 "cells": [
  {
   "cell_type": "code",
   "execution_count": 1,
   "metadata": {
    "collapsed": false
   },
   "outputs": [],
   "source": [
    "import numpy\n",
    "from matplotlib import pyplot\n",
    "%matplotlib inline\n",
    "from mpl_toolkits.mplot3d import Axes3D\n",
    "from matplotlib import cm"
   ]
  },
  {
   "cell_type": "code",
   "execution_count": null,
   "metadata": {
    "collapsed": true
   },
   "outputs": [],
   "source": [
    "def plot_3D(x, y, u):\n",
    "    fig = pyplot.figure(figsize=(11,7), dpi=100)\n",
    "    ax = fig.gca(projection='3d')\n",
    "    X,Y = numpy.meshgrid(x,y)\n",
    "    surf = ax.plot_surface(X,Y,u[:], rstride=1, cstride=1, cmap=cm.viridis,\n",
    "            linewidth=0, antialiased=False)\n",
    "\n",
    "    ax.set_xlim(0,2*numpy.pi)\n",
    "    ax.set_ylim(0,2*numpy.pi)\n",
    "    ax.set_xlabel('$x$')\n",
    "    ax.set_ylabel('$y$')\n",
    "    ax.set_zlabel('$z$')\n",
    "    ax.view_init(30,45)"
   ]
  },
  {
   "cell_type": "code",
   "execution_count": 2,
   "metadata": {
    "collapsed": true
   },
   "outputs": [],
   "source": [
    "Re = 100\n",
    "U =1 #vel of top wall BC\n",
    "L =1 #box size"
   ]
  },
  {
   "cell_type": "code",
   "execution_count": 3,
   "metadata": {
    "collapsed": true
   },
   "outputs": [],
   "source": [
    "N = 25\n",
    "#nt=10\n",
    "#t = numpy.linspace(0,2,nt)\n",
    "x = numpy.linspace(0,L,N)\n",
    "y = numpy.linspace(0,L,N)\n",
    "X,Y = numpy.meshgrid(x,y)\n",
    "\n",
    "\n",
    "nu = 1\n",
    "\n",
    "dh = 2*numpy.pi/(N-1)"
   ]
  },
  {
   "cell_type": "code",
   "execution_count": 4,
   "metadata": {
    "collapsed": true
   },
   "outputs": [],
   "source": [
    "Xu,Yu = X,Y+0.5*dh\n",
    "Xv,Yv = X+0.5*dh,Y\n",
    "Xpl = numpy.ones((N+1,N+1))\n",
    "Ypl = numpy.ones((N+1,N+1))\n",
    "Xpl[1:,1:] = X+0.5*dh\n",
    "Xpl[:,0] = -0.5*dh\n",
    "Xpl[0,:] = Xpl[1,:]\n",
    "Ypl[1:, 1:] = Y+0.5*dh\n",
    "Ypl[0,:] = -0.5*dh\n",
    "Ypl[:,0]=Ypl[:,1]"
   ]
  },
  {
   "cell_type": "code",
   "execution_count": 5,
   "metadata": {
    "collapsed": true
   },
   "outputs": [],
   "source": [
    "def divcheck(u,v,dh,N):\n",
    "    divergence = numpy.zeros((N,N))\n",
    "    divergence = (u[1:-1,2:]-u[1:-1,1:-1]+v[2:,1:-1]-v[1:-1,1:-1])/dh\n",
    "    return divergence"
   ]
  },
  {
   "cell_type": "code",
   "execution_count": 6,
   "metadata": {
    "collapsed": true
   },
   "outputs": [],
   "source": [
    "def convective_flux_x(u,v,dh):\n",
    "    #divergence of convective flux in x-dir \n",
    "    \n",
    "    F_cx = -1/(4*dh)*( (u[1:-1,1:-1]+u[1:-1,2:])**2 - (u[1:-1,1:-1]+u[1:-1,:-2])**2 +\\\n",
    "        (u[1:-1,1:-1]+u[2:,1:-1])*(v[1:-1,2:]+v[1:-1,1:-1]) - (u[1:-1,1:-1]+u[:-2,1:-1])*(v[:-2,2:]+v[:-2,1:-1]) )\n",
    "    return F_cx\n",
    "\n",
    "def pressure_flux_x(p,dh):\n",
    "    #divergence of pressure flux in x-dir\n",
    "\n",
    "    F_px = -(p[1:-1,2:]-p[1:-1,1:-1])/dh\n",
    "    return F_px\n",
    "\n",
    "def viscous_flux_x(u,v,Re,dh):\n",
    "    # divergence of viscous flux in x-dir\n",
    "    \n",
    "    F_vx = 1/Re/dh**2*( u[1:-1,2:] -4*u[1:-1,1:-1] + u[1:-1,:-2] + u[2:,1:-1] + u[:-2,1:-1] )\n",
    "    return F_vx\n",
    "\n",
    "def convective_flux_y(u,v,dh):   #####CHECK THIS#####\n",
    "    F_cy = -1/(4*dh)*( (v[1:-1,1:-1]+v[2:,1:-1])**2 - (v[1:-1,1:-1]+v[:-2,1:-1])**2 +\\\n",
    "        (v[1:-1,1:-1]+v[1:-1,2:])*(u[2:,1:-1]+u[1:-1,1:-1]) - (v[1:-1,1:-1]+v[1:-1,:-2])*(u[2:,:-2]+u[1:-1,:-2]) )\n",
    "    return F_cy\n",
    "\n",
    "def pressure_flux_y(p,dh):\n",
    "    F_py = -(p[2:,1:-1]-p[1:-1,1:-1])/dh\n",
    "    return F_py\n",
    "\n",
    "def viscous_flux_y(u,v,Re,dh):   #####CHECK THIS#####\n",
    "    F_vy = 1/Re/dh**2*( v[1:-1,2:] - 4*v[1:-1,1:-1] + v[1:-1,:-2] + v[2:,1:-1] + v[:-2,1:-1] )\n",
    "    return F_vy"
   ]
  },
  {
   "cell_type": "code",
   "execution_count": 7,
   "metadata": {
    "collapsed": true
   },
   "outputs": [],
   "source": [
    "def poisson_IG(N,dt,ustar,vstar):\n",
    "    \n",
    "    f = 1/dt*( (ustar[:-1,1:]-ustar[:-1,:-1])/dh + (vstar[1:,:-1]-vstar[:-1,:-1])/dh )\n",
    "    \n",
    "    #p_i = numpy.zeros((N,N))    #initial guess\n",
    "    \n",
    "    l2_target = 1e-8\n",
    "    omega = 2/(1+(numpy.pi/N))\n",
    "    return f,l2_target,omega\n",
    "\n",
    "def poisson_SOR(p,pn,l2_target,omega,f,dh):\n",
    "    iterations = 0\n",
    "    iter_diff = l2_target + 1\n",
    "    denominator = 0.0\n",
    "    ny,nx=p.shape\n",
    "    l2_diff = numpy.zeros(20000)\n",
    "    \n",
    "    while iter_diff > l2_target:\n",
    "        for j in range(N):\n",
    "            for i in range(N):\n",
    "                pn[j,i]=p[j,i]\n",
    "                \n",
    "        iter_diff = 0.0\n",
    "        denominator = 0.0\n",
    "        \n",
    "        for j in range(1,N-1):\n",
    "            for i in range(1,N-1):\n",
    "                p[j,i] = (1-omega)*p[j,i] + omega * ((p[j,i+1]+p[j,i-1])*dh**2 +\\\n",
    "                    (p[j+1,i] + p[j-1,i])*dh**2 -f[j,i]*dh**2*dh**2)/(2*(dh**2 + dh**2))\n",
    "                \n",
    "        #enforce neumann bc on boundaries\n",
    "        for j in range(N):\n",
    "            p[j,0] = p[j,1]    #left boundary\n",
    "            p[j,-1] = p[j,-2]    #right boundary\n",
    "        for i in range(N):\n",
    "            p[0,i] = p[1,i]    #bottom boundary\n",
    "            p[-1,i] = p[-2,i]    #top boundary\n",
    "        \n",
    "        #corners, set equal to one of the sides\n",
    "        p[0,0]=p[0,1]    #bottom left corner\n",
    "        p[0,-1]=p[0,-2]    #bottom right corner\n",
    "        p[-1,-1]=p[-2,-1]    #top right corner\n",
    "        p[-1,0]=p[-2,0]    #top left corner\n",
    "            \n",
    "        for j in range(N):\n",
    "            for i in range(N):\n",
    "                iter_diff += (p[j,i]-pn[j,i])**2\n",
    "                denominator += (pn[j,i]*pn[j,i])\n",
    "                \n",
    "        iter_diff /= denominator\n",
    "        iter_diff = iter_diff**0.5\n",
    "        l2_diff[iterations] = iter_diff\n",
    "        iterations +=1\n",
    "        \n",
    "        if iterations > 5000:\n",
    "            break\n",
    "        \n",
    "    #print(\"SOR method took {} iterations at tolerance {} with omega = {} and nx = {}\".format(iterations, l2_target, omega,N))\n",
    "\n",
    "        \n",
    "    return p,iterations,l2_diff"
   ]
  },
  {
   "cell_type": "code",
   "execution_count": 8,
   "metadata": {
    "collapsed": true
   },
   "outputs": [],
   "source": [
    "def ic(Xu,Yu,Xv,Yv,Xpl,Ypl,dh,Re,U):\n",
    "    \n",
    "    # at t=0, initial guess\n",
    "    u_i = numpy.zeros((N,N))\n",
    "    v_i = numpy.zeros((N,N))\n",
    "    p_i = numpy.zeros((N+1,N+1))\n",
    "    \n",
    "    u_i[-1,:] = U\n",
    "    \n",
    "    p_i[0,:] = p_i[1,:]\n",
    "    p_i[-1,:] = p_i[-2,:]\n",
    "    p_i[:,0] = p_i[:,1]\n",
    "    p_i[:,-1] = p_i[:,-2]\n",
    "    \n",
    "    F_cx_i = convective_flux_x(u_i,v_i,dh)\n",
    "    F_vx_i = viscous_flux_x(u_i,v_i,nu,dh)\n",
    "    F_cy_i = convective_flux_y(u_i,v_i,dh)\n",
    "    F_vy_i = viscous_flux_y(u_i,v_i,nu,dh)\n",
    "    \n",
    "    return u_i,v_i,p_i,F_cx_i,F_vx_i,F_cy_i,F_vy_i"
   ]
  },
  {
   "cell_type": "code",
   "execution_count": 9,
   "metadata": {
    "collapsed": true
   },
   "outputs": [],
   "source": [
    "def ab(u,v,p,F_cx,F_vx,F_cy,F_vy,dh,dt,nt,Re,Xu,Yu,Xv,Yv):   #####ADD BCs#####\n",
    "    \n",
    "    u_n = numpy.zeros((nt,len(u),len(u)))\n",
    "    v_n = numpy.zeros((nt,len(v),len(v)))\n",
    "    p_n = numpy.zeros((nt,len(p),len(p)))\n",
    "    F_cx_n = numpy.zeros((nt,len(F_cx),len(F_cx)))\n",
    "    F_vx_n = numpy.zeros((nt,len(F_vx),len(F_vx)))\n",
    "    F_cy_n = numpy.zeros((nt,len(F_cy),len(F_cy)))\n",
    "    F_vy_n = numpy.zeros((nt,len(F_vy),len(F_vy)))\n",
    "    \n",
    "    u_n[:,:,:] = u.copy()    #hold u-comp vel for each timestep\n",
    "    v_n[:,:,:] = v.copy()    #hold v-comp vel for each timestep\n",
    "    p_n[:,:,:] = p.copy()    #hold pressure for each timestep\n",
    "    F_cx_n[:,:,:] = F_cx.copy()\n",
    "    F_vx_n[:,:,:] = F_vx.copy()\n",
    "    F_cy_n[:,:,:] = F_cy.copy()\n",
    "    F_vy_n[:,:,:] = F_vy.copy()\n",
    "    \n",
    "    #u_e = numpy.zeros((nt,len(u),len(u)))\n",
    "    #v_e = numpy.zeros((nt,len(u),len(u)))\n",
    "    #t=numpy.linspace(0,2,nt)\n",
    "    for i in range(1,nt):\n",
    "        #u_i = -numpy.exp(-2*(t-1))*numpy.cos(Xu)*numpy.sin(Yu)\n",
    "        #v_i = numpy.exp(-2*(t-1))*numpy.sin(Xv)*numpy.cos(Yv)\n",
    "        #p_i = -numpy.exp(-4*(t-1))/4*(numpy.cos(2*Xpl)+numpy.cos(2*Ypl))\n",
    "        \n",
    "        un=u.copy()\n",
    "        vn=v.copy()\n",
    "        pn=p.copy()\n",
    "        \n",
    "        \n",
    "        #u_e[i,:,:] = -numpy.exp(-2*t[i])*numpy.cos(Xu)*numpy.sin(Yu)\n",
    "        #v_e[i,:,:] = numpy.exp(-2*t[i])*numpy.sin(Xv)*numpy.cos(Yv) \n",
    "        \n",
    "        ustar = u.copy()#numpy.zeros_like(u)\n",
    "        vstar = v.copy()#numpy.zeros_like(u)\n",
    "        \n",
    "        #velocity prediction\n",
    "        F_cx_n[i,:,:] = convective_flux_x(u,v,dh)\n",
    "        F_vx_n[i,:,:] = viscous_flux_x(u,v,Re,dh)\n",
    "        ustar[1:-1,1:-1] = un[1:-1,1:-1] + 3/2*dt*(F_cx_n[i,:,:]+F_vx_n[i,:,:])+0.5*dt*(F_cx_n[i-1,:,:]+F_vx_n[i-1,:,:])\n",
    "        \n",
    "        F_cy_n[i,:,:] = convective_flux_y(u,v,dh)\n",
    "        F_vy_n[i,:,:] = viscous_flux_y(u,v,Re,dh)\n",
    "        vstar[1:-1,1:-1] = vn[1:-1,1:-1] + 3/2*dt*(F_cy_n[i,:,:]+F_vy_n[i,:,:])+0.5*dt*(F_cy_n[i-1,:,:]+F_vy_n[i-1,:,:])\n",
    "        \n",
    "        divergence = divcheck(ustar,vstar,dh,N)\n",
    "        \n",
    "        # normal component boundary conditions\n",
    "        #ustar[:,0] = 0#-ustar[:,1]#u_e[i,:,0]\n",
    "        #ustar[:,-1] = 0#-ustar[:,-2]#u_e[i,:,-1]\n",
    "        \n",
    "        ustar[0,:] = ustar[1,:]\n",
    "        #ustar[-2,:] = ustar[-3,:]\n",
    "        ustar[-1,:] = 1#dh + ustar[-2,:]\n",
    "        \n",
    "        #vstar[0,:] = 0#-vstar[1,:]#v_e[i,0,:]\n",
    "        #vstar[-1,:] = 0#-vstar[-2,:]#v_e[i,-1,:]\n",
    "        \n",
    "        vstar[:,0] = vstar[:,1]\n",
    "        #vstar[:,-2] = vstar[:,-3]\n",
    "        vstar[:,-1] = vstar[:,-2]\n",
    "        \n",
    "        #poisson to solve for pressure\n",
    "        f,l2_target,omega = poisson_IG(N,dt,ustar,vstar)\n",
    "        p_n[i,:,:],iterations,l2_diff = poisson_SOR(pn.copy(),pn.copy(),l2_target,omega,f,dh)\n",
    "        \n",
    "        #velocity correction\n",
    "        F_px = pressure_flux_x(p_n[i,:,:],dh)\n",
    "        u_n[i,1:-1,1:-1] = ustar[1:-1,1:-1] + dt*F_px[1:,1:]\n",
    "        F_py = pressure_flux_y(p_n[i,:,:],dh)\n",
    "        v_n[i,1:-1,1:-1] = vstar[1:-1,1:-1] + dt*F_py[1:,1:]\n",
    "        \n",
    "        #BC for all components\n",
    "        u_n[i,:,0] = 0#-u_n[i,:,1]\n",
    "        u_n[i,:,-1] = 0#-u_n[i,:,-2]\n",
    "        \n",
    "        u_n[i,0,:] =  u_n[i,1,:] \n",
    "        #u_n[i,-2,:] = u_n[i,-2,:]\n",
    "        u_n[i,-1,:] = 1#dh + u_n[i,-2,:]\n",
    "        \n",
    "        v_n[i,0,:] =  0#-v_n[i,1,:]\n",
    "        v_n[i,-1,:] = 0#-v_n[i,-2,:]\n",
    "        \n",
    "        v_n[i,:,0] = v_n[i,:,1]\n",
    "        #v_n[i,:,-2] = v_n[i,:,-3]\n",
    "        v_n[i,:,-1] = v_n[i,:,-2]\n",
    "      \n",
    "        \n",
    "        #move to u and v\n",
    "        u = u_n[i].copy()\n",
    "        v = v_n[i].copy()\n",
    "        p = p_n[i].copy()\n",
    "        \n",
    "        #print('end')\n",
    "        \n",
    "    return u_n,v_n,p_n,l2_target,iterations,l2_diff,divergence"
   ]
  },
  {
   "cell_type": "code",
   "execution_count": 11,
   "metadata": {
    "collapsed": false,
    "scrolled": true
   },
   "outputs": [
    {
     "data": {
      "text/plain": [
       "array([ 1.,  1.,  1.,  1.,  1.,  1.,  1.,  1.,  1.,  1.,  1.,  1.,  1.,\n",
       "        1.,  1.,  1.,  1.,  1.,  1.,  1.,  1.,  1.,  1.,  1.,  1.])"
      ]
     },
     "execution_count": 11,
     "metadata": {},
     "output_type": "execute_result"
    }
   ],
   "source": [
    "u_i,v_i,p_i,F_cx_i,F_vx_i,F_cy_i,F_vy_i = ic(Xu,Yu,Xv,Yv,Xpl,Ypl,dh,Re,U)\n",
    "u_i[-1,:]   #check top row"
   ]
  },
  {
   "cell_type": "code",
   "execution_count": 12,
   "metadata": {
    "collapsed": false
   },
   "outputs": [
    {
     "name": "stdout",
     "output_type": "stream",
     "text": [
      "0.0785398163397\n"
     ]
    }
   ],
   "source": [
    "CFL = 0.3 # 0.4 or 0.3 or 2.51\n",
    "sigma = 0.62\n",
    "maxu,maxv = numpy.max(numpy.absolute(u_i)), numpy.max(numpy.absolute(v_i))\n",
    "#print(maxu,maxv)\n",
    "maxim = max(maxu,maxv)\n",
    "\n",
    "dtc = CFL*dh/maxim\n",
    "dtv = sigma/Re/dh**2   #stability condition\n",
    "#print(dtc,dtv)\n",
    "dt = min(dtc,dtv)\n",
    "#dt = 0.2\n",
    "#nt = int(2/dt +1)\n",
    "print(dt)\n",
    "nt=25"
   ]
  },
  {
   "cell_type": "code",
   "execution_count": 13,
   "metadata": {
    "collapsed": false,
    "scrolled": true
   },
   "outputs": [
    {
     "name": "stderr",
     "output_type": "stream",
     "text": [
      "/home/gil/anaconda3/lib/python3.4/site-packages/ipykernel/__main__.py:49: RuntimeWarning: divide by zero encountered in double_scalars\n",
      "/home/gil/anaconda3/lib/python3.4/site-packages/ipykernel/__main__.py:46: RuntimeWarning: overflow encountered in double_scalars\n",
      "/home/gil/anaconda3/lib/python3.4/site-packages/ipykernel/__main__.py:47: RuntimeWarning: overflow encountered in double_scalars\n",
      "/home/gil/anaconda3/lib/python3.4/site-packages/ipykernel/__main__.py:49: RuntimeWarning: invalid value encountered in double_scalars\n",
      "/home/gil/anaconda3/lib/python3.4/site-packages/ipykernel/__main__.py:4: RuntimeWarning: overflow encountered in square\n",
      "/home/gil/anaconda3/lib/python3.4/site-packages/ipykernel/__main__.py:4: RuntimeWarning: invalid value encountered in subtract\n",
      "/home/gil/anaconda3/lib/python3.4/site-packages/ipykernel/__main__.py:4: RuntimeWarning: overflow encountered in multiply\n",
      "/home/gil/anaconda3/lib/python3.4/site-packages/ipykernel/__main__.py:20: RuntimeWarning: overflow encountered in square\n",
      "/home/gil/anaconda3/lib/python3.4/site-packages/ipykernel/__main__.py:20: RuntimeWarning: invalid value encountered in subtract\n",
      "/home/gil/anaconda3/lib/python3.4/site-packages/ipykernel/__main__.py:20: RuntimeWarning: overflow encountered in multiply\n"
     ]
    }
   ],
   "source": [
    "u_n,v_n,p_n,l2_target,iterations,l2_diff,divergence = ab(u_i.copy(),v_i.copy(),p_i.copy(),F_cx_i.copy(),F_vx_i.copy(),F_cy_i.copy(),F_vy_i.copy(),dh,dt,nt,Re,Xu,Yu,Xv,Yv)"
   ]
  },
  {
   "cell_type": "code",
   "execution_count": 76,
   "metadata": {
    "collapsed": false,
    "scrolled": true
   },
   "outputs": [
    {
     "data": {
      "image/png": "[encoded data removed]",
      "text/plain": [
       "<matplotlib.figure.Figure at 0x7f0e022496a0>"
      ]
     },
     "metadata": {},
     "output_type": "display_data"
    }
   ],
   "source": [
    "pyplot.figure(figsize=(5,5))\n",
    "pyplot.xlim(0,1)\n",
    "pyplot.ylim(0,1)\n",
    "pyplot.xlabel('x')\n",
    "pyplot.ylabel('y')\n",
    "pyplot.title('U-vel contours at time step 16')\n",
    "#pyplot.streamplot(X,Y,u_n[17,:,:],v_n[17,:,:],density=2)\n",
    "pyplot.contour(X,Y,u_n[16,:,:])\n",
    "#pyplot.contour(X,Y,v_n[1,:,:])\n",
    "pyplot.show();"
   ]
  },
  {
   "cell_type": "code",
   "execution_count": 50,
   "metadata": {
    "collapsed": false
   },
   "outputs": [
    {
     "data": {
      "text/plain": [
       "1.256637061435917"
      ]
     },
     "execution_count": 50,
     "metadata": {},
     "output_type": "execute_result"
    }
   ],
   "source": [
    "dt*16"
   ]
  },
  {
   "cell_type": "code",
   "execution_count": 91,
   "metadata": {
    "collapsed": false
   },
   "outputs": [
    {
     "data": {
      "image/png": "[encoded data removed]",
      "text/plain": [
       "<matplotlib.figure.Figure at 0x7f0e0237d710>"
      ]
     },
     "metadata": {},
     "output_type": "display_data"
    }
   ],
   "source": [
    "pyplot.contour(X,Y,p_n[16,1:,1:])\n",
    "pyplot.title('time step 16')\n",
    "pyplot.xlabel('x')\n",
    "pyplot.ylabel('y');"
   ]
  },
  {
   "cell_type": "code",
   "execution_count": null,
   "metadata": {
    "collapsed": true
   },
   "outputs": [],
   "source": []
  }
 ],
 "metadata": {
  "kernelspec": {
   "display_name": "Python 3",
   "language": "python",
   "name": "python3"
  },
  "language_info": {
   "codemirror_mode": {
    "name": "ipython",
    "version": 3
   },
   "file_extension": ".py",
   "mimetype": "text/x-python",
   "name": "python",
   "nbconvert_exporter": "python",
   "pygments_lexer": "ipython3",
   "version": "3.4.4"
  }
 },
 "nbformat": 4,
 "nbformat_minor": 0
}

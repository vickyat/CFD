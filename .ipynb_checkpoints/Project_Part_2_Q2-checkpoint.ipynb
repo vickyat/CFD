{
 "cells": [
  {
   "cell_type": "code",
   "execution_count": 1,
   "metadata": {
    "collapsed": false
   },
   "outputs": [],
   "source": [
    "import numpy\n",
    "from matplotlib import pyplot\n",
    "%matplotlib inline\n",
    "from mpl_toolkits.mplot3d import Axes3D\n",
    "from matplotlib import cm"
   ]
  },
  {
   "cell_type": "code",
   "execution_count": 3,
   "metadata": {
    "collapsed": true
   },
   "outputs": [],
   "source": [
    "Re = 100\n",
    "U =1 #vel of top wall BC\n",
    "L =1 #box size"
   ]
  },
  {
   "cell_type": "code",
   "execution_count": 25,
   "metadata": {
    "collapsed": true
   },
   "outputs": [],
   "source": [
    "N = 35\n",
    "x = numpy.linspace(0,L,N)\n",
    "y = numpy.linspace(0,L,N)\n",
    "X,Y = numpy.meshgrid(x,y)\n",
    "nu = 1\n",
    "\n",
    "dh = 2*numpy.pi/(N-1)"
   ]
  },
  {
   "cell_type": "code",
   "execution_count": 26,
   "metadata": {
    "collapsed": true
   },
   "outputs": [],
   "source": [
    "Xu,Yu = X,Y+0.5*dh\n",
    "Xv,Yv = X+0.5*dh,Y\n",
    "Xpl = numpy.ones((N+1,N+1))\n",
    "Ypl = numpy.ones((N+1,N+1))\n",
    "Xpl[1:,1:] = X+0.5*dh\n",
    "Xpl[:,0] = -0.5*dh\n",
    "Xpl[0,:] = Xpl[1,:]\n",
    "Ypl[1:, 1:] = Y+0.5*dh\n",
    "Ypl[0,:] = -0.5*dh\n",
    "Ypl[:,0]=Ypl[:,1]"
   ]
  },
  {
   "cell_type": "code",
   "execution_count": 27,
   "metadata": {
    "collapsed": true
   },
   "outputs": [],
   "source": [
    "def divcheck(u,v,dh,N):\n",
    "    divergence = numpy.zeros((N,N))\n",
    "    divergence = (u[1:-1,2:]-u[1:-1,1:-1]+v[2:,1:-1]-v[1:-1,1:-1])/dh\n",
    "    return divergence"
   ]
  },
  {
   "cell_type": "code",
   "execution_count": 28,
   "metadata": {
    "collapsed": true
   },
   "outputs": [],
   "source": [
    "def convective_flux_x(u,v,dh):\n",
    "    #divergence of convective flux in x-dir \n",
    "    \n",
    "    F_cx = -1/(4*dh)*( (u[1:-1,1:-1]+u[1:-1,2:])**2 - (u[1:-1,1:-1]+u[1:-1,:-2])**2 +\\\n",
    "        (u[1:-1,1:-1]+u[2:,1:-1])*(v[1:-1,2:]+v[1:-1,1:-1]) - (u[1:-1,1:-1]+u[:-2,1:-1])*(v[:-2,2:]+v[:-2,1:-1]) )\n",
    "    return F_cx\n",
    "\n",
    "def pressure_flux_x(p,dh):\n",
    "    #divergence of pressure flux in x-dir\n",
    "\n",
    "    F_px = -(p[1:-1,2:]-p[1:-1,1:-1])/dh\n",
    "    return F_px\n",
    "\n",
    "def viscous_flux_x(u,v,Re,dh):\n",
    "    # divergence of viscous flux in x-dir\n",
    "    \n",
    "    F_vx = 1/Re/dh**2*( u[1:-1,2:] -4*u[1:-1,1:-1] + u[1:-1,:-2] + u[2:,1:-1] + u[:-2,1:-1] )\n",
    "    return F_vx\n",
    "\n",
    "def convective_flux_y(u,v,dh):   #####CHECK THIS#####\n",
    "    F_cy = -1/(4*dh)*( (v[1:-1,1:-1]+v[2:,1:-1])**2 - (v[1:-1,1:-1]+v[:-2,1:-1])**2 +\\\n",
    "        (v[1:-1,1:-1]+v[1:-1,2:])*(u[2:,1:-1]+u[1:-1,1:-1]) - (v[1:-1,1:-1]+v[1:-1,:-2])*(u[2:,:-2]+u[1:-1,:-2]) )\n",
    "    return F_cy\n",
    "\n",
    "def pressure_flux_y(p,dh):\n",
    "    F_py = -(p[2:,1:-1]-p[1:-1,1:-1])/dh\n",
    "    return F_py\n",
    "\n",
    "def viscous_flux_y(u,v,Re,dh):   #####CHECK THIS#####\n",
    "    F_vy = 1/Re/dh**2*( v[1:-1,2:] - 4*v[1:-1,1:-1] + v[1:-1,:-2] + v[2:,1:-1] + v[:-2,1:-1] )\n",
    "    return F_vy"
   ]
  },
  {
   "cell_type": "code",
   "execution_count": 29,
   "metadata": {
    "collapsed": true
   },
   "outputs": [],
   "source": [
    "def poisson_IG(N,dt,ustar,vstar):\n",
    "    \n",
    "    f = 1/dt*( (ustar[:-1,1:]-ustar[:-1,:-1])/dh + (vstar[1:,:-1]-vstar[:-1,:-1])/dh )\n",
    "    \n",
    "    #p_i = numpy.zeros((N,N))    #initial guess\n",
    "    \n",
    "    l2_target = 1e-8\n",
    "    omega = 2/(1+(numpy.pi/N))\n",
    "    return f,l2_target,omega\n",
    "\n",
    "def poisson_SOR(p,pn,l2_target,omega,f,dh):\n",
    "    iterations = 0\n",
    "    iter_diff = l2_target + 1\n",
    "    denominator = 0.0\n",
    "    ny,nx=p.shape\n",
    "    l2_diff = numpy.zeros(20000)\n",
    "    \n",
    "    while iter_diff > l2_target:\n",
    "        for j in range(N):\n",
    "            for i in range(N):\n",
    "                pn[j,i]=p[j,i]\n",
    "                \n",
    "        iter_diff = 0.0\n",
    "        denominator = 0.0\n",
    "        \n",
    "        for j in range(1,N-1):\n",
    "            for i in range(1,N-1):\n",
    "                p[j,i] = (1-omega)*p[j,i] + omega * ((p[j,i+1]+p[j,i-1])*dh**2 +\\\n",
    "                    (p[j+1,i] + p[j-1,i])*dh**2 -f[j,i]*dh**2*dh**2)/(2*(dh**2 + dh**2))\n",
    "                \n",
    "        #enforce neumann bc on boundaries\n",
    "        for j in range(N):\n",
    "            p[j,0] = p[j,1]    #left boundary\n",
    "            p[j,-1] = p[j,-2]    #right boundary\n",
    "        for i in range(N):\n",
    "            p[0,i] = p[1,i]    #bottom boundary\n",
    "            p[-1,i] = p[-2,i]    #top boundary\n",
    "        \n",
    "        #corners, set equal to one of the sides\n",
    "        p[0,0]=p[0,1]    #bottom left corner\n",
    "        p[0,-1]=p[0,-2]    #bottom right corner\n",
    "        p[-1,-1]=p[-2,-1]    #top right corner\n",
    "        p[-1,0]=p[-2,0]    #top left corner\n",
    "            \n",
    "        for j in range(N):\n",
    "            for i in range(N):\n",
    "                iter_diff += (p[j,i]-pn[j,i])**2\n",
    "                denominator += (pn[j,i]*pn[j,i])\n",
    "                \n",
    "        iter_diff /= denominator\n",
    "        iter_diff = iter_diff**0.5\n",
    "        l2_diff[iterations] = iter_diff\n",
    "        iterations +=1\n",
    "        \n",
    "        if iterations > 5000:\n",
    "            break\n",
    "        \n",
    "    #print(\"SOR method took {} iterations at tolerance {} with omega = {} and nx = {}\".format(iterations, l2_target, omega,N))\n",
    "\n",
    "        \n",
    "    return p,iterations,l2_diff"
   ]
  },
  {
   "cell_type": "code",
   "execution_count": 30,
   "metadata": {
    "collapsed": true
   },
   "outputs": [],
   "source": [
    "def ic(dh,Re,U):\n",
    "    \n",
    "    # at t=0, initial guess\n",
    "    u_i = numpy.zeros((N,N))\n",
    "    v_i = numpy.zeros((N,N))\n",
    "    p_i = numpy.zeros((N+1,N+1))\n",
    "    \n",
    "    u_i[-1,:] = U\n",
    "    \n",
    "    p_i[0,:] = p_i[1,:]\n",
    "    p_i[-1,:] = p_i[-2,:]\n",
    "    p_i[:,0] = p_i[:,1]\n",
    "    p_i[:,-1] = p_i[:,-2]\n",
    "    \n",
    "    F_cx_i = convective_flux_x(u_i,v_i,dh)\n",
    "    F_vx_i = viscous_flux_x(u_i,v_i,nu,dh)\n",
    "    F_cy_i = convective_flux_y(u_i,v_i,dh)\n",
    "    F_vy_i = viscous_flux_y(u_i,v_i,nu,dh)\n",
    "    \n",
    "    return u_i,v_i,p_i,F_cx_i,F_vx_i,F_cy_i,F_vy_i"
   ]
  },
  {
   "cell_type": "code",
   "execution_count": 31,
   "metadata": {
    "collapsed": true
   },
   "outputs": [],
   "source": [
    "def ab(u,v,p,F_cx,F_vx,F_cy,F_vy,dh,dt,nt,Re):   #####ADD BCs#####\n",
    "    \n",
    "    u_n = numpy.zeros((nt,len(u),len(u)))\n",
    "    v_n = numpy.zeros((nt,len(v),len(v)))\n",
    "    p_n = numpy.zeros((nt,len(p),len(p)))\n",
    "    F_cx_n = numpy.zeros((nt,len(F_cx),len(F_cx)))\n",
    "    F_vx_n = numpy.zeros((nt,len(F_vx),len(F_vx)))\n",
    "    F_cy_n = numpy.zeros((nt,len(F_cy),len(F_cy)))\n",
    "    F_vy_n = numpy.zeros((nt,len(F_vy),len(F_vy)))\n",
    "    \n",
    "    u_n[:,:,:] = u.copy()    #hold u-comp vel for each timestep\n",
    "    v_n[:,:,:] = v.copy()    #hold v-comp vel for each timestep\n",
    "    p_n[:,:,:] = p.copy()    #hold pressure for each timestep\n",
    "    F_cx_n[:,:,:] = F_cx.copy()\n",
    "    F_vx_n[:,:,:] = F_vx.copy()\n",
    "    F_cy_n[:,:,:] = F_cy.copy()\n",
    "    F_vy_n[:,:,:] = F_vy.copy()\n",
    "    \n",
    "    #u_e = numpy.zeros((nt,len(u),len(u)))\n",
    "    #v_e = numpy.zeros((nt,len(u),len(u)))\n",
    "    #t=numpy.linspace(0,2,nt)\n",
    "    for i in range(1,nt):\n",
    "        #u_i = -numpy.exp(-2*(t-1))*numpy.cos(Xu)*numpy.sin(Yu)\n",
    "        #v_i = numpy.exp(-2*(t-1))*numpy.sin(Xv)*numpy.cos(Yv)\n",
    "        #p_i = -numpy.exp(-4*(t-1))/4*(numpy.cos(2*Xpl)+numpy.cos(2*Ypl))\n",
    "        \n",
    "        un=u.copy()\n",
    "        vn=v.copy()\n",
    "        pn=p.copy()\n",
    "        \n",
    "        \n",
    "        #u_e[i,:,:] = -numpy.exp(-2*t[i])*numpy.cos(Xu)*numpy.sin(Yu)\n",
    "        #v_e[i,:,:] = numpy.exp(-2*t[i])*numpy.sin(Xv)*numpy.cos(Yv) \n",
    "        \n",
    "        ustar = u.copy()#numpy.zeros_like(u)\n",
    "        vstar = v.copy()#numpy.zeros_like(u)\n",
    "        \n",
    "        #velocity prediction\n",
    "        F_cx_n[i,:,:] = convective_flux_x(u,v,dh)\n",
    "        F_vx_n[i,:,:] = viscous_flux_x(u,v,Re,dh)\n",
    "        ustar[1:-1,1:-1] = un[1:-1,1:-1] + 3/2*dt*(F_cx_n[i,:,:]+F_vx_n[i,:,:])+0.5*dt*(F_cx_n[i-1,:,:]+F_vx_n[i-1,:,:])\n",
    "        \n",
    "        F_cy_n[i,:,:] = convective_flux_y(u,v,dh)\n",
    "        F_vy_n[i,:,:] = viscous_flux_y(u,v,Re,dh)\n",
    "        vstar[1:-1,1:-1] = vn[1:-1,1:-1] + 3/2*dt*(F_cy_n[i,:,:]+F_vy_n[i,:,:])+0.5*dt*(F_cy_n[i-1,:,:]+F_vy_n[i-1,:,:])\n",
    "        \n",
    "        divergence = divcheck(ustar,vstar,dh,N)\n",
    "        \n",
    "        # normal component boundary conditions\n",
    "        ustar[:,0] = -ustar[:,1]#u_e[i,:,0]\n",
    "        ustar[:,-1] = -ustar[:,-2]#u_e[i,:,-1]\n",
    "        \n",
    "        #ustar[0,:] = u_e[i,0,:] #ustar[:,1]\n",
    "        #ustar[-1,:] = u_e[i,-1,:] #ustar[-2,:]\n",
    "        \n",
    "        vstar[0,:] = -vstar[1,:]#v_e[i,0,:]\n",
    "        vstar[-1,:] = -vstar[-2,:]#v_e[i,-1,:]\n",
    "        \n",
    "        #vstar[:,0] = v_e[i,:,0] #vstar[1,:]\n",
    "        #vstar[:,-1] = v_e[i,:,-1] #vstar[:,-2]\n",
    "        \n",
    "        #poisson to solve for pressure\n",
    "        f,l2_target,omega = poisson_IG(N,dt,ustar,vstar)\n",
    "        p_n[i,:,:],iterations,l2_diff = poisson_SOR(pn.copy(),pn.copy(),l2_target,omega,f,dh)\n",
    "        \n",
    "       \n",
    "        \n",
    "        #velocity correction\n",
    "        F_px = pressure_flux_x(p_n[i,:,:],dh)\n",
    "        u_n[i,1:-1,1:-1] = ustar[1:-1,1:-1] + dt*F_px#[1:,1:]\n",
    "        F_py = pressure_flux_y(p_n[i,:,:],dh)\n",
    "        v_n[i,1:-1,1:-1] = vstar[1:-1,1:-1] + dt*F_py#[1:,1:]\n",
    "        \n",
    "        #BC for all components\n",
    "        u_n[i,:,0] = -u_n[i,:,1]#u_e[i,:,0]\n",
    "        u_n[i,:,-1] = -u_n[i,:,-2]#u_e[i,:,-1]\n",
    "        \n",
    "        u_n[i,0,:] =  -u_n[i,1,:]#u_e[i,0,:] \n",
    "        u_n[i,-1,:] = 1#u_e[i,-1,:]#u_n[i,-2,:]\n",
    "        \n",
    "        v_n[i,0,:] =  -v_n[i,1,:]#v_e[i,0,:]\n",
    "        v_n[i,-1,:] = -v_n[i,-2,:]#v_e[i,-1,:]\n",
    "        \n",
    "        v_n[i,:,0] = -v_n[i,:,1]#v_e[i,:,0]\n",
    "        v_n[i,:,-1] = -v_n[i,:,-2]#v_e[i,:,-1]\n",
    "      \n",
    "        \n",
    "        #move to u and v\n",
    "        u = u_n[i].copy()\n",
    "        v = v_n[i].copy()\n",
    "        p = p_n[i].copy()\n",
    "        \n",
    "        #print('end')\n",
    "        \n",
    "    return u_n,v_n,p_n,l2_target,iterations,l2_diff,divergence"
   ]
  },
  {
   "cell_type": "code",
   "execution_count": 32,
   "metadata": {
    "collapsed": false,
    "scrolled": true
   },
   "outputs": [
    {
     "data": {
      "text/plain": [
       "array([ 1.,  1.,  1.,  1.,  1.,  1.,  1.,  1.,  1.,  1.,  1.,  1.,  1.,\n",
       "        1.,  1.,  1.,  1.,  1.,  1.,  1.,  1.,  1.,  1.,  1.,  1.,  1.,\n",
       "        1.,  1.,  1.,  1.,  1.,  1.,  1.,  1.,  1.])"
      ]
     },
     "execution_count": 32,
     "metadata": {},
     "output_type": "execute_result"
    }
   ],
   "source": [
    "u_i,v_i,p_i,F_cx_i,F_vx_i,F_cy_i,F_vy_i = ic(dh,Re,U)\n",
    "u_i[-1,:]"
   ]
  },
  {
   "cell_type": "code",
   "execution_count": 34,
   "metadata": {
    "collapsed": false
   },
   "outputs": [
    {
     "name": "stdout",
     "output_type": "stream",
     "text": [
      "0.0554398703575\n"
     ]
    }
   ],
   "source": [
    "CFL = 0.3 # 0.4 or 0.3 or 2.51\n",
    "sigma = 0.62\n",
    "maxu,maxv = numpy.max(numpy.absolute(u_i)), numpy.max(numpy.absolute(v_i))\n",
    "#print(maxu,maxv)\n",
    "maxim = max(maxu,maxv)\n",
    "\n",
    "dtc = CFL*dh/maxim\n",
    "dtv = sigma/Re/dh**2   #stability condition\n",
    "#print(dtc,dtv)\n",
    "dt = min(dtc,dtv)\n",
    "#dt = 0.2\n",
    "#nt = int(2/dt +1)\n",
    "print(dt)\n",
    "nt=10"
   ]
  },
  {
   "cell_type": "code",
   "execution_count": 35,
   "metadata": {
    "collapsed": false,
    "scrolled": true
   },
   "outputs": [
    {
     "name": "stderr",
     "output_type": "stream",
     "text": [
      "/home/gil/anaconda3/lib/python3.4/site-packages/ipykernel/__main__.py:49: RuntimeWarning: divide by zero encountered in double_scalars\n"
     ]
    },
    {
     "ename": "ValueError",
     "evalue": "operands could not be broadcast together with shapes (33,33) (34,34) ",
     "output_type": "error",
     "traceback": [
      "\u001b[1;31m---------------------------------------------------------------------------\u001b[0m",
      "\u001b[1;31mValueError\u001b[0m                                Traceback (most recent call last)",
      "\u001b[1;32m<ipython-input-35-6bdba03f3a34>\u001b[0m in \u001b[0;36m<module>\u001b[1;34m()\u001b[0m\n\u001b[1;32m----> 1\u001b[1;33m \u001b[0mu_n\u001b[0m\u001b[1;33m,\u001b[0m\u001b[0mv_n\u001b[0m\u001b[1;33m,\u001b[0m\u001b[0mp_n\u001b[0m\u001b[1;33m,\u001b[0m\u001b[0ml2_target\u001b[0m\u001b[1;33m,\u001b[0m\u001b[0miterations\u001b[0m\u001b[1;33m,\u001b[0m\u001b[0ml2_diff\u001b[0m\u001b[1;33m,\u001b[0m\u001b[0mdivergence\u001b[0m \u001b[1;33m=\u001b[0m \u001b[0mab\u001b[0m\u001b[1;33m(\u001b[0m\u001b[0mu_i\u001b[0m\u001b[1;33m.\u001b[0m\u001b[0mcopy\u001b[0m\u001b[1;33m(\u001b[0m\u001b[1;33m)\u001b[0m\u001b[1;33m,\u001b[0m\u001b[0mv_i\u001b[0m\u001b[1;33m.\u001b[0m\u001b[0mcopy\u001b[0m\u001b[1;33m(\u001b[0m\u001b[1;33m)\u001b[0m\u001b[1;33m,\u001b[0m\u001b[0mp_i\u001b[0m\u001b[1;33m.\u001b[0m\u001b[0mcopy\u001b[0m\u001b[1;33m(\u001b[0m\u001b[1;33m)\u001b[0m\u001b[1;33m,\u001b[0m\u001b[0mF_cx_i\u001b[0m\u001b[1;33m.\u001b[0m\u001b[0mcopy\u001b[0m\u001b[1;33m(\u001b[0m\u001b[1;33m)\u001b[0m\u001b[1;33m,\u001b[0m\u001b[0mF_vx_i\u001b[0m\u001b[1;33m.\u001b[0m\u001b[0mcopy\u001b[0m\u001b[1;33m(\u001b[0m\u001b[1;33m)\u001b[0m\u001b[1;33m,\u001b[0m\u001b[0mF_cy_i\u001b[0m\u001b[1;33m.\u001b[0m\u001b[0mcopy\u001b[0m\u001b[1;33m(\u001b[0m\u001b[1;33m)\u001b[0m\u001b[1;33m,\u001b[0m\u001b[0mF_vy_i\u001b[0m\u001b[1;33m.\u001b[0m\u001b[0mcopy\u001b[0m\u001b[1;33m(\u001b[0m\u001b[1;33m)\u001b[0m\u001b[1;33m,\u001b[0m\u001b[0mdh\u001b[0m\u001b[1;33m,\u001b[0m\u001b[0mdt\u001b[0m\u001b[1;33m,\u001b[0m\u001b[0mnt\u001b[0m\u001b[1;33m,\u001b[0m\u001b[0mRe\u001b[0m\u001b[1;33m)\u001b[0m\u001b[1;33m\u001b[0m\u001b[0m\n\u001b[0m",
      "\u001b[1;32m<ipython-input-31-ab52e47570cf>\u001b[0m in \u001b[0;36mab\u001b[1;34m(u, v, p, F_cx, F_vx, F_cy, F_vy, dh, dt, nt, Re)\u001b[0m\n\u001b[0;32m     68\u001b[0m         \u001b[1;31m#velocity correction\u001b[0m\u001b[1;33m\u001b[0m\u001b[1;33m\u001b[0m\u001b[0m\n\u001b[0;32m     69\u001b[0m         \u001b[0mF_px\u001b[0m \u001b[1;33m=\u001b[0m \u001b[0mpressure_flux_x\u001b[0m\u001b[1;33m(\u001b[0m\u001b[0mp_n\u001b[0m\u001b[1;33m[\u001b[0m\u001b[0mi\u001b[0m\u001b[1;33m,\u001b[0m\u001b[1;33m:\u001b[0m\u001b[1;33m,\u001b[0m\u001b[1;33m:\u001b[0m\u001b[1;33m]\u001b[0m\u001b[1;33m,\u001b[0m\u001b[0mdh\u001b[0m\u001b[1;33m)\u001b[0m\u001b[1;33m\u001b[0m\u001b[0m\n\u001b[1;32m---> 70\u001b[1;33m         \u001b[0mu_n\u001b[0m\u001b[1;33m[\u001b[0m\u001b[0mi\u001b[0m\u001b[1;33m,\u001b[0m\u001b[1;36m1\u001b[0m\u001b[1;33m:\u001b[0m\u001b[1;33m-\u001b[0m\u001b[1;36m1\u001b[0m\u001b[1;33m,\u001b[0m\u001b[1;36m1\u001b[0m\u001b[1;33m:\u001b[0m\u001b[1;33m-\u001b[0m\u001b[1;36m1\u001b[0m\u001b[1;33m]\u001b[0m \u001b[1;33m=\u001b[0m \u001b[0mustar\u001b[0m\u001b[1;33m[\u001b[0m\u001b[1;36m1\u001b[0m\u001b[1;33m:\u001b[0m\u001b[1;33m-\u001b[0m\u001b[1;36m1\u001b[0m\u001b[1;33m,\u001b[0m\u001b[1;36m1\u001b[0m\u001b[1;33m:\u001b[0m\u001b[1;33m-\u001b[0m\u001b[1;36m1\u001b[0m\u001b[1;33m]\u001b[0m \u001b[1;33m+\u001b[0m \u001b[0mdt\u001b[0m\u001b[1;33m*\u001b[0m\u001b[0mF_px\u001b[0m\u001b[1;31m#[1:,1:]\u001b[0m\u001b[1;33m\u001b[0m\u001b[0m\n\u001b[0m\u001b[0;32m     71\u001b[0m         \u001b[0mF_py\u001b[0m \u001b[1;33m=\u001b[0m \u001b[0mpressure_flux_y\u001b[0m\u001b[1;33m(\u001b[0m\u001b[0mp_n\u001b[0m\u001b[1;33m[\u001b[0m\u001b[0mi\u001b[0m\u001b[1;33m,\u001b[0m\u001b[1;33m:\u001b[0m\u001b[1;33m,\u001b[0m\u001b[1;33m:\u001b[0m\u001b[1;33m]\u001b[0m\u001b[1;33m,\u001b[0m\u001b[0mdh\u001b[0m\u001b[1;33m)\u001b[0m\u001b[1;33m\u001b[0m\u001b[0m\n\u001b[0;32m     72\u001b[0m         \u001b[0mv_n\u001b[0m\u001b[1;33m[\u001b[0m\u001b[0mi\u001b[0m\u001b[1;33m,\u001b[0m\u001b[1;36m1\u001b[0m\u001b[1;33m:\u001b[0m\u001b[1;33m-\u001b[0m\u001b[1;36m1\u001b[0m\u001b[1;33m,\u001b[0m\u001b[1;36m1\u001b[0m\u001b[1;33m:\u001b[0m\u001b[1;33m-\u001b[0m\u001b[1;36m1\u001b[0m\u001b[1;33m]\u001b[0m \u001b[1;33m=\u001b[0m \u001b[0mvstar\u001b[0m\u001b[1;33m[\u001b[0m\u001b[1;36m1\u001b[0m\u001b[1;33m:\u001b[0m\u001b[1;33m-\u001b[0m\u001b[1;36m1\u001b[0m\u001b[1;33m,\u001b[0m\u001b[1;36m1\u001b[0m\u001b[1;33m:\u001b[0m\u001b[1;33m-\u001b[0m\u001b[1;36m1\u001b[0m\u001b[1;33m]\u001b[0m \u001b[1;33m+\u001b[0m \u001b[0mdt\u001b[0m\u001b[1;33m*\u001b[0m\u001b[0mF_py\u001b[0m\u001b[1;31m#[1:,1:]\u001b[0m\u001b[1;33m\u001b[0m\u001b[0m\n",
      "\u001b[1;31mValueError\u001b[0m: operands could not be broadcast together with shapes (33,33) (34,34) "
     ]
    }
   ],
   "source": [
    "u_n,v_n,p_n,l2_target,iterations,l2_diff,divergence = ab(u_i.copy(),v_i.copy(),p_i.copy(),F_cx_i.copy(),F_vx_i.copy(),F_cy_i.copy(),F_vy_i.copy(),dh,dt,nt,Re)"
   ]
  },
  {
   "cell_type": "code",
   "execution_count": null,
   "metadata": {
    "collapsed": false
   },
   "outputs": [],
   "source": [
    "pyplot.figure(figsize=(5,5))\n",
    "#pyplot.streamplot(X,Y,u_n[1,:,:],v_n[1,:,:])\n",
    "pyplot.contour(X,Y,v_n[4,:,:])\n",
    "#pyplot.colorbar()\n",
    "pyplot.show();"
   ]
  },
  {
   "cell_type": "markdown",
   "metadata": {},
   "source": [
    "# spatial and time convergence"
   ]
  },
  {
   "cell_type": "code",
   "execution_count": null,
   "metadata": {
    "collapsed": true
   },
   "outputs": [],
   "source": [
    "def L2_error(u,u_e):\n",
    "    error = numpy.sqrt(numpy.sum((u-u_e)**2)/numpy.sum(u_e)**2)\n",
    "    return error\n",
    "\n",
    "def anal(t,Xu,Yu,Xv,Yv,Xpl,Ypl):\n",
    "    u_exact = -numpy.exp(-2*t)*numpy.cos(Xu)*numpy.sin(Yu)\n",
    "    v_exact = numpy.exp(-2*t)*numpy.sin(Xv)*numpy.cos(Yv)\n",
    "    p_exact = -numpy.exp(-4*t)/4*(numpy.cos(2*Xpl))\n",
    "    return u_exact,v_exact,p_exact"
   ]
  },
  {
   "cell_type": "code",
   "execution_count": null,
   "metadata": {
    "collapsed": true
   },
   "outputs": [],
   "source": [
    "N = 20\n",
    "dx = 2*numpy.pi/(N-1)\n",
    "\n",
    "dt_values=numpy.asarray([1.0,0.5,0.25,0.125])\n",
    "error = numpy.zeros(len(dt_values))\n",
    "u_exact,v_exact,p_exact = anal(2,Xu,Yu,Xv,Yv,Xpl,Ypl)\n",
    "\n",
    "for i,dt in enumerate (dt_values):\n",
    "    nt = int(2/dt +1)\n",
    "    u_i,v_i,p_i,F_cx_i,F_vx_i,F_cy_i,F_vy_i = ic(Xu,Yu,Xv,Yv,Xpl,Ypl,dh,nu)\n",
    "    u_n,v_n,p_n,l2_target,iterations,l2_diff,divergence,u_e,v_e = ab(u_i.copy(),v_i.copy(),p_i.copy(),F_cx_i.copy(),F_vx_i.copy(),F_cy_i.copy(),F_vy_i.copy(),dh,dt,nt,nu,Xu,Yu,Xv,Yv)\n",
    "    error[i]=L2_error(u_n[-1,:,:],u_exact)"
   ]
  },
  {
   "cell_type": "code",
   "execution_count": null,
   "metadata": {
    "collapsed": true
   },
   "outputs": [],
   "source": [
    "pyplot.figure(figsize=(8,8))\n",
    "pyplot.grid(True)\n",
    "pyplot.xlabel(r'$\\Delta t$', fontsize=18)\n",
    "pyplot.ylabel(r'$L_2$-norm of the error', fontsize=18)\n",
    "pyplot.axis('equal')\n",
    "pyplot.loglog(dt_values, error, color='k', ls='--', lw=2, marker='o')"
   ]
  },
  {
   "cell_type": "code",
   "execution_count": null,
   "metadata": {
    "collapsed": true
   },
   "outputs": [],
   "source": [
    "nx_values = numpy.asarray([11,21,31,41])\n",
    "dt = 0.2\n",
    "error = numpy.zeros(len(nx_values))\n",
    "\n",
    "for i, nx in enumerate(nx_values):\n",
    "    dx = 2*numpy.pi/(nx-1)\n",
    "    nt = int(2/dt +1)\n",
    "    u_i,v_i,p_i,F_cx_i,F_vx_i,F_cy_i,F_vy_i = ic(Xu,Yu,Xv,Yv,Xpl,Ypl,dh,nu)\n",
    "    u_n,v_n,p_n,l2_target,iterations,l2_diff,divergence,u_e,v_e = ab(u_i.copy(),v_i.copy(),p_i.copy(),F_cx_i.copy(),F_vx_i.copy(),F_cy_i.copy(),F_vy_i.copy(),dh,dt,nt,nu,Xu,Yu,Xv,Yv)\n",
    "    error[i]=L2_error(u_n[-1,:,:],u_exact)"
   ]
  },
  {
   "cell_type": "code",
   "execution_count": null,
   "metadata": {
    "collapsed": true
   },
   "outputs": [],
   "source": [
    "pyplot.figure(figsize=(8,8))\n",
    "pyplot.grid(True)\n",
    "pyplot.xlabel(r'$n_x$', fontsize=18)\n",
    "pyplot.ylabel(r'$L_2$-norm of the error', fontsize=18)\n",
    "pyplot.axis('equal')\n",
    "pyplot.loglog(nx_values, error, color='k', ls='--', lw=2, marker='o');"
   ]
  },
  {
   "cell_type": "code",
   "execution_count": null,
   "metadata": {
    "collapsed": true
   },
   "outputs": [],
   "source": []
  },
  {
   "cell_type": "code",
   "execution_count": null,
   "metadata": {
    "collapsed": true
   },
   "outputs": [],
   "source": []
  }
 ],
 "metadata": {
  "kernelspec": {
   "display_name": "Python 3",
   "language": "python",
   "name": "python3"
  },
  "language_info": {
   "codemirror_mode": {
    "name": "ipython",
    "version": 3
   },
   "file_extension": ".py",
   "mimetype": "text/x-python",
   "name": "python",
   "nbconvert_exporter": "python",
   "pygments_lexer": "ipython3",
   "version": "3.4.4"
  }
 },
 "nbformat": 4,
 "nbformat_minor": 0
}

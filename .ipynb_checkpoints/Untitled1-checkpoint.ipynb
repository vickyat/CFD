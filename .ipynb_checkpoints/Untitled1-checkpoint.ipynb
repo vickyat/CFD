{
 "cells": [
  {
   "cell_type": "markdown",
   "metadata": {},
   "source": []
  },
  {
   "cell_type": "markdown",
   "metadata": {},
   "source": [
    "For the BC along x = 0 (left side)\n",
    "\n",
    "$ i = 0$\n",
    "\n",
    "$$ \\phi_{0,j}^{k+1} = \\frac{1}{4}\\ (\\phi_{-1,j}^{k} + \\phi_{1,j}^{k} + \\phi_{0,j+1}^{k} + \\phi_{0,j-1}^{k} - \\Delta x^{2} f_{0,j})\\ $$\n",
    "\n",
    "$$ \\frac {\\phi_{1,j} - \\phi_{-1,j}}{2} = u_{0,j}\\ $$\n",
    "\n",
    "Solving for point $u_{-1,j}$ and then plugging in to the first eqn:\n",
    "\n",
    "$$ u_{0,j}^{k+1} = \\frac{1}{4} (2u_{1,j}^{k} - 2u_{0,j}^{k} + u_{0,j-1}^{k} + u_{0,j+1}^{k} - \\Delta x^{2} f_{0,j})\\ $$"
   ]
  },
  {
   "cell_type": "markdown",
   "metadata": {},
   "source": [
    "When I use this for the Neumann BC, my function only iterates one time and I get the correct shape, but all my values are off by a factor of ~100.  For some reason, it does not continue to iterate"
   ]
  },
  {
   "cell_type": "markdown",
   "metadata": {},
   "source": [
    "Instead, I used\n",
    "\n",
    "$$ u_{0,j} = u\\ exact\\ _{0,j}$$\n",
    "\n",
    "for all boundaries and corners, and I got the correct values"
   ]
  },
  {
   "cell_type": "code",
   "execution_count": null,
   "metadata": {
    "collapsed": true
   },
   "outputs": [],
   "source": []
  }
 ],
 "metadata": {
  "kernelspec": {
   "display_name": "Python 3",
   "language": "python",
   "name": "python3"
  },
  "language_info": {
   "codemirror_mode": {
    "name": "ipython",
    "version": 3
   },
   "file_extension": ".py",
   "mimetype": "text/x-python",
   "name": "python",
   "nbconvert_exporter": "python",
   "pygments_lexer": "ipython3",
   "version": "3.4.4"
  }
 },
 "nbformat": 4,
 "nbformat_minor": 0
}

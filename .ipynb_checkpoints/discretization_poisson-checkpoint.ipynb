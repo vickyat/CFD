{
 "cells": [
  {
   "cell_type": "markdown",
   "metadata": {},
   "source": [
    "Discretization with Jacobi relaxation\n",
    "\n",
    "$$\\frac{\\partial^{2} u}{\\partial x^{2}} = \\frac{u_{i+1} - 2u_{i} + u_{i-1}}{\\Delta x^{2}}$$\n",
    "\n",
    "$$\\frac{\\partial^{2} u}{\\partial y^{2}} =\\frac{u_{j+1}-2u_{j}+u_{j-1}}{\\Delta y^{2}} $$\n",
    "\n",
    "Assume $\\Delta x = \\Delta y$\n",
    "\n",
    "$$ \\frac{\\partial^{2}u}{\\partial x^{2}} + \\frac{\\partial ^{2} u}{\\partial x^{2}} = f = \\frac{u_{i+1,j} + u_{i-1,j} -4u_{i,j}+u_{i,j+1}+u_{i,j-1}}{\\Delta x^{2}}$$\n",
    "\n",
    "$$u_{i,j} = \\frac{1}{4} (-f \\Delta x + u_{i+1,j}+u_{i-1,j}+u_{i,j+1}+u_{i,j-1})$$\n",
    "\n",
    "Or more generally,\n",
    "\n",
    "$$ u_{i,j} = \\frac {-f\\ (\\Delta x^{2} + \\Delta y^{2}) + \\Delta y^{2}\\ (u_{i+1,j} + u_{i-1,j}) + \\Delta x^{2}\\ (u_{i,j+1} + u_{i,j-1})}{2\\ (\\Delta y^{2} + \\Delta x^{2})} $$"
   ]
  },
  {
   "cell_type": "markdown",
   "metadata": {},
   "source": [
    "$$ f = -8 \\pi^{2} n^{2}\\ sin\\ (2\\pi ny)\\ sin(2\\pi nx)$$"
   ]
  },
  {
   "cell_type": "code",
   "execution_count": null,
   "metadata": {
    "collapsed": true
   },
   "outputs": [],
   "source": []
  }
 ],
 "metadata": {
  "kernelspec": {
   "display_name": "Python 3",
   "language": "python",
   "name": "python3"
  },
  "language_info": {
   "codemirror_mode": {
    "name": "ipython",
    "version": 3
   },
   "file_extension": ".py",
   "mimetype": "text/x-python",
   "name": "python",
   "nbconvert_exporter": "python",
   "pygments_lexer": "ipython3",
   "version": "3.4.4"
  }
 },
 "nbformat": 4,
 "nbformat_minor": 0
}
